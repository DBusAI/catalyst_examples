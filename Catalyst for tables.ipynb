{
 "cells": [
  {
   "cell_type": "markdown",
   "metadata": {},
   "source": [
    "# Simple example for table-data with catalyst:\n",
    "@DBusAI"
   ]
  },
  {
   "cell_type": "code",
   "execution_count": 1,
   "metadata": {},
   "outputs": [
    {
     "name": "stderr",
     "output_type": "stream",
     "text": [
      "lz4 not available, disabling compression. To install lz4, run `pip install lz4`.\n",
      "wandb not available, switching to pickle. To install wandb, run `pip install wandb`.\n"
     ]
    }
   ],
   "source": [
    "#catalyst import\n",
    "from catalyst.dl import SupervisedRunner\n",
    "from catalyst.dl.callbacks import SchedulerCallback\n",
    "from catalyst.contrib.optimizers import Lookahead\n",
    "from catalyst.utils import set_global_seed\n",
    "\n",
    "#torch \n",
    "import torch\n",
    "from torch import nn\n",
    "import torch.nn.functional as F\n",
    "from torch.utils.data import TensorDataset,DataLoader\n",
    "\n",
    "#others\n",
    "import numpy as np\n",
    "from sklearn.datasets.california_housing import fetch_california_housing\n",
    "from sklearn.model_selection import train_test_split\n",
    "from sklearn.preprocessing import StandardScaler\n",
    "from sklearn.metrics import mean_squared_error\n",
    "from matplotlib.pylab import plt\n",
    "%matplotlib inline\n",
    "from collections import OrderedDict"
   ]
  },
  {
   "cell_type": "markdown",
   "metadata": {},
   "source": [
    "### Reproduce all"
   ]
  },
  {
   "cell_type": "code",
   "execution_count": 3,
   "metadata": {},
   "outputs": [],
   "source": [
    "SEED=2121\n",
    "set_global_seed(SEED)"
   ]
  },
  {
   "cell_type": "markdown",
   "metadata": {},
   "source": [
    "### Get some data"
   ]
  },
  {
   "cell_type": "code",
   "execution_count": 4,
   "metadata": {},
   "outputs": [],
   "source": [
    "X,y = fetch_california_housing(return_X_y=True)\n",
    "x_train,x_test,y_train,y_test = train_test_split(X,y,test_size=2121,random_state=SEED)"
   ]
  },
  {
   "cell_type": "markdown",
   "metadata": {},
   "source": [
    "### Dataset definition"
   ]
  },
  {
   "cell_type": "code",
   "execution_count": 5,
   "metadata": {},
   "outputs": [],
   "source": [
    "mscl = StandardScaler()"
   ]
  },
  {
   "cell_type": "code",
   "execution_count": 6,
   "metadata": {},
   "outputs": [],
   "source": [
    "x_train = mscl.fit_transform(x_train)\n",
    "x_test = mscl.transform(x_test)"
   ]
  },
  {
   "cell_type": "code",
   "execution_count": 7,
   "metadata": {},
   "outputs": [],
   "source": [
    "train_ds = TensorDataset(torch.FloatTensor(x_train),torch.FloatTensor(y_train.reshape(-1,1)))\n",
    "test_ds = TensorDataset(torch.FloatTensor(x_test),torch.FloatTensor(y_test.reshape(-1,1)))"
   ]
  },
  {
   "cell_type": "markdown",
   "metadata": {},
   "source": [
    "### DataLoader definition"
   ]
  },
  {
   "cell_type": "code",
   "execution_count": 8,
   "metadata": {},
   "outputs": [],
   "source": [
    "batch = 120\n",
    "\n",
    "train_dl = DataLoader(train_ds,batch_size=batch,shuffle=True,num_workers=2)\n",
    "test_dl = DataLoader(test_ds,batch_size=batch,shuffle=False,num_workers=2)"
   ]
  },
  {
   "cell_type": "code",
   "execution_count": 9,
   "metadata": {},
   "outputs": [],
   "source": [
    "data = OrderedDict()\n",
    "data['train'] = train_dl\n",
    "data['valid'] = test_dl"
   ]
  },
  {
   "cell_type": "markdown",
   "metadata": {},
   "source": [
    "### Define model"
   ]
  },
  {
   "cell_type": "code",
   "execution_count": 10,
   "metadata": {},
   "outputs": [],
   "source": [
    "class Net(nn.Module):\n",
    "    def __init__(self,num_features):\n",
    "        super(Net,self).__init__()\n",
    "        layers=[40,20]\n",
    "        self.L1 = nn.Linear(num_features,layers[0])\n",
    "        torch.nn.init.xavier_uniform_(self.L1.weight) \n",
    "        torch.nn.init.zeros_(self.L1.bias)\n",
    "        \n",
    "        self.L2 = nn.Linear(layers[0],layers[1])\n",
    "        torch.nn.init.xavier_uniform_(self.L2.weight) \n",
    "        torch.nn.init.zeros_(self.L2.bias)\n",
    "        \n",
    "        self.L3 = nn.Linear(layers[1],1)\n",
    "        torch.nn.init.xavier_uniform_(self.L3.weight) \n",
    "        torch.nn.init.zeros_(self.L3.bias)\n",
    "    def forward(self,x):\n",
    "        x = F.relu(self.L1(x))\n",
    "        x = F.relu(self.L2(x))\n",
    "        x = F.relu(self.L3(x))\n",
    "        return x"
   ]
  },
  {
   "cell_type": "code",
   "execution_count": 11,
   "metadata": {},
   "outputs": [],
   "source": [
    "model = Net(x_train.shape[1])"
   ]
  },
  {
   "cell_type": "code",
   "execution_count": 12,
   "metadata": {},
   "outputs": [],
   "source": [
    "optimizer = torch.optim.Adam(model.parameters(), lr=1e-2)\n",
    "crit = nn.MSELoss()"
   ]
  },
  {
   "cell_type": "code",
   "execution_count": 14,
   "metadata": {},
   "outputs": [
    {
     "name": "stdout",
     "output_type": "stream",
     "text": [
      "[2019-09-05 10:45:46,854] \n",
      "0/20 * Epoch 0 (train): _base/lr=0.0100 | _base/momentum=0.9000 | _timers/_fps=174495.0694 | _timers/batch_time=0.0010 | _timers/data_time=0.0008 | _timers/model_time=0.0002 | loss=1.7247\n",
      "0/20 * Epoch 0 (valid): _base/lr=0.0100 | _base/momentum=0.9000 | _timers/_fps=182298.0869 | _timers/batch_time=0.0018 | _timers/data_time=0.0015 | _timers/model_time=0.0003 | loss=0.4278\n"
     ]
    },
    {
     "name": "stderr",
     "output_type": "stream",
     "text": [
      "I0905 10:45:46.854586 140734812878272 logging.py:110] \n",
      "0/20 * Epoch 0 (train): _base/lr=0.0100 | _base/momentum=0.9000 | _timers/_fps=174495.0694 | _timers/batch_time=0.0010 | _timers/data_time=0.0008 | _timers/model_time=0.0002 | loss=1.7247\n",
      "0/20 * Epoch 0 (valid): _base/lr=0.0100 | _base/momentum=0.9000 | _timers/_fps=182298.0869 | _timers/batch_time=0.0018 | _timers/data_time=0.0015 | _timers/model_time=0.0003 | loss=0.4278\n"
     ]
    },
    {
     "name": "stdout",
     "output_type": "stream",
     "text": [
      "[2019-09-05 10:45:47,203] \n",
      "1/20 * Epoch 1 (train): _base/lr=0.0100 | _base/momentum=0.9000 | _timers/_fps=177425.5178 | _timers/batch_time=0.0009 | _timers/data_time=0.0006 | _timers/model_time=0.0002 | loss=0.3930\n",
      "1/20 * Epoch 1 (valid): _base/lr=0.0100 | _base/momentum=0.9000 | _timers/_fps=192055.6599 | _timers/batch_time=0.0017 | _timers/data_time=0.0014 | _timers/model_time=0.0002 | loss=0.3559\n"
     ]
    },
    {
     "name": "stderr",
     "output_type": "stream",
     "text": [
      "I0905 10:45:47.203205 140734812878272 logging.py:110] \n",
      "1/20 * Epoch 1 (train): _base/lr=0.0100 | _base/momentum=0.9000 | _timers/_fps=177425.5178 | _timers/batch_time=0.0009 | _timers/data_time=0.0006 | _timers/model_time=0.0002 | loss=0.3930\n",
      "1/20 * Epoch 1 (valid): _base/lr=0.0100 | _base/momentum=0.9000 | _timers/_fps=192055.6599 | _timers/batch_time=0.0017 | _timers/data_time=0.0014 | _timers/model_time=0.0002 | loss=0.3559\n"
     ]
    },
    {
     "name": "stdout",
     "output_type": "stream",
     "text": [
      "[2019-09-05 10:45:47,568] \n",
      "2/20 * Epoch 2 (train): _base/lr=0.0100 | _base/momentum=0.9000 | _timers/_fps=174075.7473 | _timers/batch_time=0.0010 | _timers/data_time=0.0007 | _timers/model_time=0.0003 | loss=0.3603\n",
      "2/20 * Epoch 2 (valid): _base/lr=0.0100 | _base/momentum=0.9000 | _timers/_fps=171890.6493 | _timers/batch_time=0.0020 | _timers/data_time=0.0017 | _timers/model_time=0.0003 | loss=0.3464\n"
     ]
    },
    {
     "name": "stderr",
     "output_type": "stream",
     "text": [
      "I0905 10:45:47.568791 140734812878272 logging.py:110] \n",
      "2/20 * Epoch 2 (train): _base/lr=0.0100 | _base/momentum=0.9000 | _timers/_fps=174075.7473 | _timers/batch_time=0.0010 | _timers/data_time=0.0007 | _timers/model_time=0.0003 | loss=0.3603\n",
      "2/20 * Epoch 2 (valid): _base/lr=0.0100 | _base/momentum=0.9000 | _timers/_fps=171890.6493 | _timers/batch_time=0.0020 | _timers/data_time=0.0017 | _timers/model_time=0.0003 | loss=0.3464\n"
     ]
    },
    {
     "name": "stdout",
     "output_type": "stream",
     "text": [
      "[2019-09-05 10:45:47,934] \n",
      "3/20 * Epoch 3 (train): _base/lr=0.0100 | _base/momentum=0.9000 | _timers/_fps=174381.7525 | _timers/batch_time=0.0009 | _timers/data_time=0.0007 | _timers/model_time=0.0002 | loss=0.3567\n",
      "3/20 * Epoch 3 (valid): _base/lr=0.0100 | _base/momentum=0.9000 | _timers/_fps=159961.9908 | _timers/batch_time=0.0019 | _timers/data_time=0.0015 | _timers/model_time=0.0004 | loss=0.3103\n"
     ]
    },
    {
     "name": "stderr",
     "output_type": "stream",
     "text": [
      "I0905 10:45:47.934479 140734812878272 logging.py:110] \n",
      "3/20 * Epoch 3 (train): _base/lr=0.0100 | _base/momentum=0.9000 | _timers/_fps=174381.7525 | _timers/batch_time=0.0009 | _timers/data_time=0.0007 | _timers/model_time=0.0002 | loss=0.3567\n",
      "3/20 * Epoch 3 (valid): _base/lr=0.0100 | _base/momentum=0.9000 | _timers/_fps=159961.9908 | _timers/batch_time=0.0019 | _timers/data_time=0.0015 | _timers/model_time=0.0004 | loss=0.3103\n"
     ]
    },
    {
     "name": "stdout",
     "output_type": "stream",
     "text": [
      "[2019-09-05 10:45:48,361] \n",
      "4/20 * Epoch 4 (train): _base/lr=0.0100 | _base/momentum=0.9000 | _timers/_fps=156874.5547 | _timers/batch_time=0.0010 | _timers/data_time=0.0007 | _timers/model_time=0.0003 | loss=0.3234\n",
      "4/20 * Epoch 4 (valid): _base/lr=0.0100 | _base/momentum=0.9000 | _timers/_fps=91763.4048 | _timers/batch_time=0.0028 | _timers/data_time=0.0022 | _timers/model_time=0.0006 | loss=0.3195\n"
     ]
    },
    {
     "name": "stderr",
     "output_type": "stream",
     "text": [
      "I0905 10:45:48.361379 140734812878272 logging.py:110] \n",
      "4/20 * Epoch 4 (train): _base/lr=0.0100 | _base/momentum=0.9000 | _timers/_fps=156874.5547 | _timers/batch_time=0.0010 | _timers/data_time=0.0007 | _timers/model_time=0.0003 | loss=0.3234\n",
      "4/20 * Epoch 4 (valid): _base/lr=0.0100 | _base/momentum=0.9000 | _timers/_fps=91763.4048 | _timers/batch_time=0.0028 | _timers/data_time=0.0022 | _timers/model_time=0.0006 | loss=0.3195\n"
     ]
    },
    {
     "name": "stdout",
     "output_type": "stream",
     "text": [
      "[2019-09-05 10:45:48,774] \n",
      "5/20 * Epoch 5 (train): _base/lr=0.0100 | _base/momentum=0.9000 | _timers/_fps=151649.9319 | _timers/batch_time=0.0011 | _timers/data_time=0.0007 | _timers/model_time=0.0003 | loss=0.3318\n",
      "5/20 * Epoch 5 (valid): _base/lr=0.0100 | _base/momentum=0.9000 | _timers/_fps=180683.4473 | _timers/batch_time=0.0018 | _timers/data_time=0.0015 | _timers/model_time=0.0003 | loss=0.3166\n"
     ]
    },
    {
     "name": "stderr",
     "output_type": "stream",
     "text": [
      "I0905 10:45:48.774261 140734812878272 logging.py:110] \n",
      "5/20 * Epoch 5 (train): _base/lr=0.0100 | _base/momentum=0.9000 | _timers/_fps=151649.9319 | _timers/batch_time=0.0011 | _timers/data_time=0.0007 | _timers/model_time=0.0003 | loss=0.3318\n",
      "5/20 * Epoch 5 (valid): _base/lr=0.0100 | _base/momentum=0.9000 | _timers/_fps=180683.4473 | _timers/batch_time=0.0018 | _timers/data_time=0.0015 | _timers/model_time=0.0003 | loss=0.3166\n"
     ]
    },
    {
     "name": "stdout",
     "output_type": "stream",
     "text": [
      "[2019-09-05 10:45:49,173] \n",
      "6/20 * Epoch 6 (train): _base/lr=0.0100 | _base/momentum=0.9000 | _timers/_fps=154787.4320 | _timers/batch_time=0.0010 | _timers/data_time=0.0007 | _timers/model_time=0.0003 | loss=0.3177\n",
      "6/20 * Epoch 6 (valid): _base/lr=0.0100 | _base/momentum=0.9000 | _timers/_fps=188874.8180 | _timers/batch_time=0.0017 | _timers/data_time=0.0014 | _timers/model_time=0.0003 | loss=0.3168\n"
     ]
    },
    {
     "name": "stderr",
     "output_type": "stream",
     "text": [
      "I0905 10:45:49.173943 140734812878272 logging.py:110] \n",
      "6/20 * Epoch 6 (train): _base/lr=0.0100 | _base/momentum=0.9000 | _timers/_fps=154787.4320 | _timers/batch_time=0.0010 | _timers/data_time=0.0007 | _timers/model_time=0.0003 | loss=0.3177\n",
      "6/20 * Epoch 6 (valid): _base/lr=0.0100 | _base/momentum=0.9000 | _timers/_fps=188874.8180 | _timers/batch_time=0.0017 | _timers/data_time=0.0014 | _timers/model_time=0.0003 | loss=0.3168\n"
     ]
    },
    {
     "name": "stdout",
     "output_type": "stream",
     "text": [
      "[2019-09-05 10:45:49,528] \n",
      "7/20 * Epoch 7 (train): _base/lr=0.0100 | _base/momentum=0.9000 | _timers/_fps=182613.3491 | _timers/batch_time=0.0009 | _timers/data_time=0.0007 | _timers/model_time=0.0002 | loss=0.3088\n",
      "7/20 * Epoch 7 (valid): _base/lr=0.0100 | _base/momentum=0.9000 | _timers/_fps=186454.2820 | _timers/batch_time=0.0018 | _timers/data_time=0.0015 | _timers/model_time=0.0003 | loss=0.2867\n"
     ]
    },
    {
     "name": "stderr",
     "output_type": "stream",
     "text": [
      "I0905 10:45:49.528505 140734812878272 logging.py:110] \n",
      "7/20 * Epoch 7 (train): _base/lr=0.0100 | _base/momentum=0.9000 | _timers/_fps=182613.3491 | _timers/batch_time=0.0009 | _timers/data_time=0.0007 | _timers/model_time=0.0002 | loss=0.3088\n",
      "7/20 * Epoch 7 (valid): _base/lr=0.0100 | _base/momentum=0.9000 | _timers/_fps=186454.2820 | _timers/batch_time=0.0018 | _timers/data_time=0.0015 | _timers/model_time=0.0003 | loss=0.2867\n"
     ]
    },
    {
     "name": "stdout",
     "output_type": "stream",
     "text": [
      "[2019-09-05 10:45:49,891] \n",
      "8/20 * Epoch 8 (train): _base/lr=0.0100 | _base/momentum=0.9000 | _timers/_fps=172071.9984 | _timers/batch_time=0.0009 | _timers/data_time=0.0006 | _timers/model_time=0.0003 | loss=0.3009\n",
      "8/20 * Epoch 8 (valid): _base/lr=0.0100 | _base/momentum=0.9000 | _timers/_fps=179774.7531 | _timers/batch_time=0.0018 | _timers/data_time=0.0015 | _timers/model_time=0.0003 | loss=0.2874\n"
     ]
    },
    {
     "name": "stderr",
     "output_type": "stream",
     "text": [
      "I0905 10:45:49.891586 140734812878272 logging.py:110] \n",
      "8/20 * Epoch 8 (train): _base/lr=0.0100 | _base/momentum=0.9000 | _timers/_fps=172071.9984 | _timers/batch_time=0.0009 | _timers/data_time=0.0006 | _timers/model_time=0.0003 | loss=0.3009\n",
      "8/20 * Epoch 8 (valid): _base/lr=0.0100 | _base/momentum=0.9000 | _timers/_fps=179774.7531 | _timers/batch_time=0.0018 | _timers/data_time=0.0015 | _timers/model_time=0.0003 | loss=0.2874\n"
     ]
    },
    {
     "name": "stdout",
     "output_type": "stream",
     "text": [
      "[2019-09-05 10:45:50,243] \n",
      "9/20 * Epoch 9 (train): _base/lr=0.0100 | _base/momentum=0.9000 | _timers/_fps=177294.3421 | _timers/batch_time=0.0009 | _timers/data_time=0.0006 | _timers/model_time=0.0002 | loss=0.2978\n",
      "9/20 * Epoch 9 (valid): _base/lr=0.0100 | _base/momentum=0.9000 | _timers/_fps=184693.8661 | _timers/batch_time=0.0017 | _timers/data_time=0.0014 | _timers/model_time=0.0003 | loss=0.2896\n"
     ]
    },
    {
     "name": "stderr",
     "output_type": "stream",
     "text": [
      "I0905 10:45:50.243376 140734812878272 logging.py:110] \n",
      "9/20 * Epoch 9 (train): _base/lr=0.0100 | _base/momentum=0.9000 | _timers/_fps=177294.3421 | _timers/batch_time=0.0009 | _timers/data_time=0.0006 | _timers/model_time=0.0002 | loss=0.2978\n",
      "9/20 * Epoch 9 (valid): _base/lr=0.0100 | _base/momentum=0.9000 | _timers/_fps=184693.8661 | _timers/batch_time=0.0017 | _timers/data_time=0.0014 | _timers/model_time=0.0003 | loss=0.2896\n"
     ]
    },
    {
     "name": "stdout",
     "output_type": "stream",
     "text": [
      "[2019-09-05 10:45:50,596] \n",
      "10/20 * Epoch 10 (train): _base/lr=0.0100 | _base/momentum=0.9000 | _timers/_fps=181512.7773 | _timers/batch_time=0.0009 | _timers/data_time=0.0006 | _timers/model_time=0.0002 | loss=0.2980\n",
      "10/20 * Epoch 10 (valid): _base/lr=0.0100 | _base/momentum=0.9000 | _timers/_fps=162056.3318 | _timers/batch_time=0.0019 | _timers/data_time=0.0016 | _timers/model_time=0.0003 | loss=0.2967\n"
     ]
    },
    {
     "name": "stderr",
     "output_type": "stream",
     "text": [
      "I0905 10:45:50.596208 140734812878272 logging.py:110] \n",
      "10/20 * Epoch 10 (train): _base/lr=0.0100 | _base/momentum=0.9000 | _timers/_fps=181512.7773 | _timers/batch_time=0.0009 | _timers/data_time=0.0006 | _timers/model_time=0.0002 | loss=0.2980\n",
      "10/20 * Epoch 10 (valid): _base/lr=0.0100 | _base/momentum=0.9000 | _timers/_fps=162056.3318 | _timers/batch_time=0.0019 | _timers/data_time=0.0016 | _timers/model_time=0.0003 | loss=0.2967\n"
     ]
    },
    {
     "name": "stdout",
     "output_type": "stream",
     "text": [
      "[2019-09-05 10:45:50,953] \n",
      "11/20 * Epoch 11 (train): _base/lr=0.0100 | _base/momentum=0.9000 | _timers/_fps=176187.6387 | _timers/batch_time=0.0009 | _timers/data_time=0.0006 | _timers/model_time=0.0002 | loss=0.3078\n",
      "11/20 * Epoch 11 (valid): _base/lr=0.0100 | _base/momentum=0.9000 | _timers/_fps=163634.2672 | _timers/batch_time=0.0019 | _timers/data_time=0.0016 | _timers/model_time=0.0003 | loss=0.2967\n"
     ]
    },
    {
     "name": "stderr",
     "output_type": "stream",
     "text": [
      "I0905 10:45:50.953113 140734812878272 logging.py:110] \n",
      "11/20 * Epoch 11 (train): _base/lr=0.0100 | _base/momentum=0.9000 | _timers/_fps=176187.6387 | _timers/batch_time=0.0009 | _timers/data_time=0.0006 | _timers/model_time=0.0002 | loss=0.3078\n",
      "11/20 * Epoch 11 (valid): _base/lr=0.0100 | _base/momentum=0.9000 | _timers/_fps=163634.2672 | _timers/batch_time=0.0019 | _timers/data_time=0.0016 | _timers/model_time=0.0003 | loss=0.2967\n"
     ]
    },
    {
     "name": "stdout",
     "output_type": "stream",
     "text": [
      "[2019-09-05 10:45:51,291] \n",
      "12/20 * Epoch 12 (train): _base/lr=0.0100 | _base/momentum=0.9000 | _timers/_fps=187935.9182 | _timers/batch_time=0.0008 | _timers/data_time=0.0006 | _timers/model_time=0.0002 | loss=0.2964\n",
      "12/20 * Epoch 12 (valid): _base/lr=0.0100 | _base/momentum=0.9000 | _timers/_fps=167560.2563 | _timers/batch_time=0.0019 | _timers/data_time=0.0016 | _timers/model_time=0.0003 | loss=0.3085\n"
     ]
    },
    {
     "name": "stderr",
     "output_type": "stream",
     "text": [
      "I0905 10:45:51.291095 140734812878272 logging.py:110] \n",
      "12/20 * Epoch 12 (train): _base/lr=0.0100 | _base/momentum=0.9000 | _timers/_fps=187935.9182 | _timers/batch_time=0.0008 | _timers/data_time=0.0006 | _timers/model_time=0.0002 | loss=0.2964\n",
      "12/20 * Epoch 12 (valid): _base/lr=0.0100 | _base/momentum=0.9000 | _timers/_fps=167560.2563 | _timers/batch_time=0.0019 | _timers/data_time=0.0016 | _timers/model_time=0.0003 | loss=0.3085\n"
     ]
    },
    {
     "name": "stdout",
     "output_type": "stream",
     "text": [
      "[2019-09-05 10:45:51,631] \n",
      "13/20 * Epoch 13 (train): _base/lr=0.0100 | _base/momentum=0.9000 | _timers/_fps=184857.2351 | _timers/batch_time=0.0008 | _timers/data_time=0.0006 | _timers/model_time=0.0002 | loss=0.2944\n",
      "13/20 * Epoch 13 (valid): _base/lr=0.0100 | _base/momentum=0.9000 | _timers/_fps=159671.0960 | _timers/batch_time=0.0019 | _timers/data_time=0.0016 | _timers/model_time=0.0003 | loss=0.2817\n"
     ]
    },
    {
     "name": "stderr",
     "output_type": "stream",
     "text": [
      "I0905 10:45:51.631044 140734812878272 logging.py:110] \n",
      "13/20 * Epoch 13 (train): _base/lr=0.0100 | _base/momentum=0.9000 | _timers/_fps=184857.2351 | _timers/batch_time=0.0008 | _timers/data_time=0.0006 | _timers/model_time=0.0002 | loss=0.2944\n",
      "13/20 * Epoch 13 (valid): _base/lr=0.0100 | _base/momentum=0.9000 | _timers/_fps=159671.0960 | _timers/batch_time=0.0019 | _timers/data_time=0.0016 | _timers/model_time=0.0003 | loss=0.2817\n"
     ]
    },
    {
     "name": "stdout",
     "output_type": "stream",
     "text": [
      "[2019-09-05 10:45:52,020] \n",
      "14/20 * Epoch 14 (train): _base/lr=0.0100 | _base/momentum=0.9000 | _timers/_fps=156741.7778 | _timers/batch_time=0.0010 | _timers/data_time=0.0006 | _timers/model_time=0.0003 | loss=0.2968\n",
      "14/20 * Epoch 14 (valid): _base/lr=0.0100 | _base/momentum=0.9000 | _timers/_fps=153008.5214 | _timers/batch_time=0.0022 | _timers/data_time=0.0019 | _timers/model_time=0.0003 | loss=0.2849\n"
     ]
    },
    {
     "name": "stderr",
     "output_type": "stream",
     "text": [
      "I0905 10:45:52.020552 140734812878272 logging.py:110] \n",
      "14/20 * Epoch 14 (train): _base/lr=0.0100 | _base/momentum=0.9000 | _timers/_fps=156741.7778 | _timers/batch_time=0.0010 | _timers/data_time=0.0006 | _timers/model_time=0.0003 | loss=0.2968\n",
      "14/20 * Epoch 14 (valid): _base/lr=0.0100 | _base/momentum=0.9000 | _timers/_fps=153008.5214 | _timers/batch_time=0.0022 | _timers/data_time=0.0019 | _timers/model_time=0.0003 | loss=0.2849\n"
     ]
    },
    {
     "name": "stdout",
     "output_type": "stream",
     "text": [
      "[2019-09-05 10:45:52,399] \n",
      "15/20 * Epoch 15 (train): _base/lr=0.0100 | _base/momentum=0.9000 | _timers/_fps=166024.5474 | _timers/batch_time=0.0010 | _timers/data_time=0.0006 | _timers/model_time=0.0003 | loss=0.2866\n",
      "15/20 * Epoch 15 (valid): _base/lr=0.0100 | _base/momentum=0.9000 | _timers/_fps=166953.2098 | _timers/batch_time=0.0019 | _timers/data_time=0.0015 | _timers/model_time=0.0004 | loss=0.2792\n"
     ]
    },
    {
     "name": "stderr",
     "output_type": "stream",
     "text": [
      "I0905 10:45:52.399054 140734812878272 logging.py:110] \n",
      "15/20 * Epoch 15 (train): _base/lr=0.0100 | _base/momentum=0.9000 | _timers/_fps=166024.5474 | _timers/batch_time=0.0010 | _timers/data_time=0.0006 | _timers/model_time=0.0003 | loss=0.2866\n",
      "15/20 * Epoch 15 (valid): _base/lr=0.0100 | _base/momentum=0.9000 | _timers/_fps=166953.2098 | _timers/batch_time=0.0019 | _timers/data_time=0.0015 | _timers/model_time=0.0004 | loss=0.2792\n"
     ]
    },
    {
     "name": "stdout",
     "output_type": "stream",
     "text": [
      "[2019-09-05 10:45:52,777] \n",
      "16/20 * Epoch 16 (train): _base/lr=0.0100 | _base/momentum=0.9000 | _timers/_fps=162181.5435 | _timers/batch_time=0.0009 | _timers/data_time=0.0006 | _timers/model_time=0.0003 | loss=0.2838\n",
      "16/20 * Epoch 16 (valid): _base/lr=0.0100 | _base/momentum=0.9000 | _timers/_fps=165697.6154 | _timers/batch_time=0.0020 | _timers/data_time=0.0016 | _timers/model_time=0.0003 | loss=0.2776\n"
     ]
    },
    {
     "name": "stderr",
     "output_type": "stream",
     "text": [
      "I0905 10:45:52.777128 140734812878272 logging.py:110] \n",
      "16/20 * Epoch 16 (train): _base/lr=0.0100 | _base/momentum=0.9000 | _timers/_fps=162181.5435 | _timers/batch_time=0.0009 | _timers/data_time=0.0006 | _timers/model_time=0.0003 | loss=0.2838\n",
      "16/20 * Epoch 16 (valid): _base/lr=0.0100 | _base/momentum=0.9000 | _timers/_fps=165697.6154 | _timers/batch_time=0.0020 | _timers/data_time=0.0016 | _timers/model_time=0.0003 | loss=0.2776\n"
     ]
    },
    {
     "name": "stdout",
     "output_type": "stream",
     "text": [
      "[2019-09-05 10:45:53,197] \n",
      "17/20 * Epoch 17 (train): _base/lr=0.0100 | _base/momentum=0.9000 | _timers/_fps=159972.8308 | _timers/batch_time=0.0010 | _timers/data_time=0.0007 | _timers/model_time=0.0003 | loss=0.2954\n",
      "17/20 * Epoch 17 (valid): _base/lr=0.0100 | _base/momentum=0.9000 | _timers/_fps=115415.8109 | _timers/batch_time=0.0024 | _timers/data_time=0.0020 | _timers/model_time=0.0004 | loss=0.2883\n"
     ]
    },
    {
     "name": "stderr",
     "output_type": "stream",
     "text": [
      "I0905 10:45:53.197151 140734812878272 logging.py:110] \n",
      "17/20 * Epoch 17 (train): _base/lr=0.0100 | _base/momentum=0.9000 | _timers/_fps=159972.8308 | _timers/batch_time=0.0010 | _timers/data_time=0.0007 | _timers/model_time=0.0003 | loss=0.2954\n",
      "17/20 * Epoch 17 (valid): _base/lr=0.0100 | _base/momentum=0.9000 | _timers/_fps=115415.8109 | _timers/batch_time=0.0024 | _timers/data_time=0.0020 | _timers/model_time=0.0004 | loss=0.2883\n"
     ]
    },
    {
     "name": "stdout",
     "output_type": "stream",
     "text": [
      "[2019-09-05 10:45:53,610] \n",
      "18/20 * Epoch 18 (train): _base/lr=0.0100 | _base/momentum=0.9000 | _timers/_fps=161490.6562 | _timers/batch_time=0.0010 | _timers/data_time=0.0007 | _timers/model_time=0.0003 | loss=0.2841\n",
      "18/20 * Epoch 18 (valid): _base/lr=0.0100 | _base/momentum=0.9000 | _timers/_fps=113143.4380 | _timers/batch_time=0.0030 | _timers/data_time=0.0025 | _timers/model_time=0.0005 | loss=0.2712\n"
     ]
    },
    {
     "name": "stderr",
     "output_type": "stream",
     "text": [
      "I0905 10:45:53.610972 140734812878272 logging.py:110] \n",
      "18/20 * Epoch 18 (train): _base/lr=0.0100 | _base/momentum=0.9000 | _timers/_fps=161490.6562 | _timers/batch_time=0.0010 | _timers/data_time=0.0007 | _timers/model_time=0.0003 | loss=0.2841\n",
      "18/20 * Epoch 18 (valid): _base/lr=0.0100 | _base/momentum=0.9000 | _timers/_fps=113143.4380 | _timers/batch_time=0.0030 | _timers/data_time=0.0025 | _timers/model_time=0.0005 | loss=0.2712\n"
     ]
    },
    {
     "name": "stdout",
     "output_type": "stream",
     "text": [
      "[2019-09-05 10:45:54,014] \n",
      "19/20 * Epoch 19 (train): _base/lr=0.0100 | _base/momentum=0.9000 | _timers/_fps=149756.9592 | _timers/batch_time=0.0010 | _timers/data_time=0.0007 | _timers/model_time=0.0003 | loss=0.2842\n",
      "19/20 * Epoch 19 (valid): _base/lr=0.0100 | _base/momentum=0.9000 | _timers/_fps=153120.6241 | _timers/batch_time=0.0022 | _timers/data_time=0.0018 | _timers/model_time=0.0003 | loss=0.2724\n"
     ]
    },
    {
     "name": "stderr",
     "output_type": "stream",
     "text": [
      "I0905 10:45:54.014257 140734812878272 logging.py:110] \n",
      "19/20 * Epoch 19 (train): _base/lr=0.0100 | _base/momentum=0.9000 | _timers/_fps=149756.9592 | _timers/batch_time=0.0010 | _timers/data_time=0.0007 | _timers/model_time=0.0003 | loss=0.2842\n",
      "19/20 * Epoch 19 (valid): _base/lr=0.0100 | _base/momentum=0.9000 | _timers/_fps=153120.6241 | _timers/batch_time=0.0022 | _timers/data_time=0.0018 | _timers/model_time=0.0003 | loss=0.2724\n"
     ]
    },
    {
     "name": "stdout",
     "output_type": "stream",
     "text": [
      "Top best models:\n",
      "run/checkpoints//train.18.pth\t0.2712\n"
     ]
    }
   ],
   "source": [
    "runner = SupervisedRunner()\n",
    "runner.train(model=model,\n",
    "             criterion=crit,\n",
    "             optimizer=optimizer,\n",
    "             loaders=data,\n",
    "             logdir='run',\n",
    "             num_epochs=20)"
   ]
  },
  {
   "cell_type": "markdown",
   "metadata": {},
   "source": [
    "### Inference"
   ]
  },
  {
   "cell_type": "code",
   "execution_count": 15,
   "metadata": {},
   "outputs": [
    {
     "name": "stdout",
     "output_type": "stream",
     "text": [
      "=> loading checkpoint run/checkpoints/best.pth\n",
      "loaded checkpoint run/checkpoints/best.pth (epoch 18)\n",
      "0/1 * Epoch (infer): 100% 18/18 [00:00<00:00, 148.85it/s, _timers/_fps=51616.909] \n",
      "Top best models:\n",
      "\n"
     ]
    }
   ],
   "source": [
    "predictions = runner.predict_loader(\n",
    "    data[\"valid\"], resume=f\"run/checkpoints/best.pth\", verbose=True\n",
    ")"
   ]
  },
  {
   "cell_type": "markdown",
   "metadata": {},
   "source": [
    "### Results"
   ]
  },
  {
   "cell_type": "code",
   "execution_count": 16,
   "metadata": {},
   "outputs": [
    {
     "data": {
      "text/plain": [
       "0.27309075497471313"
      ]
     },
     "execution_count": 16,
     "metadata": {},
     "output_type": "execute_result"
    }
   ],
   "source": [
    "mean_squared_error(y_test,predictions)"
   ]
  },
  {
   "cell_type": "markdown",
   "metadata": {},
   "source": [
    "###  Prediction Viz"
   ]
  },
  {
   "cell_type": "code",
   "execution_count": 17,
   "metadata": {},
   "outputs": [
    {
     "data": {
      "text/plain": [
       "<matplotlib.collections.PathCollection at 0x1234f5630>"
      ]
     },
     "execution_count": 17,
     "metadata": {},
     "output_type": "execute_result"
    },
    {
     "data": {
      "image/png": "[encoded data removed]",
      "text/plain": [
       "<Figure size 432x288 with 1 Axes>"
      ]
     },
     "metadata": {
      "needs_background": "light"
     },
     "output_type": "display_data"
    }
   ],
   "source": [
    "plt.scatter(y_test,predictions.flatten())"
   ]
  }
 ],
 "metadata": {
  "kernelspec": {
   "display_name": "Python 3",
   "language": "python",
   "name": "python3"
  },
  "language_info": {
   "codemirror_mode": {
    "name": "ipython",
    "version": 3
   },
   "file_extension": ".py",
   "mimetype": "text/x-python",
   "name": "python",
   "nbconvert_exporter": "python",
   "pygments_lexer": "ipython3",
   "version": "3.6.4"
  }
 },
 "nbformat": 4,
 "nbformat_minor": 2
}
